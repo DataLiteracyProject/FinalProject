{
 "cells": [
  {
   "cell_type": "markdown",
   "metadata": {},
   "source": [
    "---\n",
    "## 0. Disclosure:\n",
    "Writer: Saekwang Nam (Matrikelnummer: 3893706), Eunji An (Matrikelnummer: 4268110)\n",
    "\n",
    "---\n",
    "## 1. EXAMple:\n",
    "\n",
    "Describe two different forms of *Dataset Shift*.\n",
    "\n",
    " - 1. **Covariate shift**: distribution of x changes\n",
    " - 2. **Prior shift**: relationship between x and y changes\n",
    " \n",
    "## 2. EXAMple2:\n",
    "\n",
    "``` python\n",
    "def unit_test(density_function, x_min, x_max, avg, moment_p):\n",
    "    # selected_x would be a list of x-values between \"x_min\" and \"x_max\",\n",
    "    # where the relative amount of the value x in the range\n",
    "    # corresponds to density_function(x). For example,\n",
    "    selected_x = numpy.random.choice(numpy.arange(x_min, x_max), p=density_function) \n",
    "    \n",
    "    # let's check if the average of the x values is close with the moments of p.\n",
    "    expected_val = np.average(selected_x)\n",
    "    \n",
    "    # compare \"expected_val\" and \"moment_p\"\n",
    "    return assertAlmostEqual(expected_val, moment_p,\n",
    "                       msg=\"The expected value must be almost equal to the moments of p\")\n",
    "```"
   ]
  },
  {
   "cell_type": "code",
   "execution_count": 1,
   "metadata": {},
   "outputs": [],
   "source": [
    "import requests\n",
    "import pandas as pd\n",
    "from bs4 import BeautifulSoup \n",
    "from scipy import stats\n",
    "import matplotlib.pyplot as plt\n",
    "soup = BeautifulSoup()"
   ]
  },
  {
   "cell_type": "code",
   "execution_count": 2,
   "metadata": {},
   "outputs": [],
   "source": [
    "url = requests.get(\"https://en.wikipedia.org/wiki/List_of_Marvel_Cinematic_Universe_films\", timeout=10).text"
   ]
  },
  {
   "cell_type": "code",
   "execution_count": 3,
   "metadata": {},
   "outputs": [
    {
     "data": {
      "text/plain": [
       "'List of Marvel Cinematic Universe films - Wikipedia'"
      ]
     },
     "execution_count": 3,
     "metadata": {},
     "output_type": "execute_result"
    }
   ],
   "source": [
    "soup = BeautifulSoup(url,'lxml')\n",
    "soup.title.string\n",
    "#soup.prettify()"
   ]
  },
  {
   "cell_type": "code",
   "execution_count": 4,
   "metadata": {},
   "outputs": [
    {
     "name": "stdout",
     "output_type": "stream",
     "text": [
      "=== cells ===\n",
      "['Film', 'Critical', 'Public', 'Rotten Tomatoes', 'Metacritic', 'CinemaScore[279]']\n"
     ]
    },
    {
     "data": {
      "text/html": [
       "<div>\n",
       "<style scoped>\n",
       "    .dataframe tbody tr th:only-of-type {\n",
       "        vertical-align: middle;\n",
       "    }\n",
       "\n",
       "    .dataframe tbody tr th {\n",
       "        vertical-align: top;\n",
       "    }\n",
       "\n",
       "    .dataframe thead th {\n",
       "        text-align: right;\n",
       "    }\n",
       "</style>\n",
       "<table border=\"1\" class=\"dataframe\">\n",
       "  <thead>\n",
       "    <tr style=\"text-align: right;\">\n",
       "      <th></th>\n",
       "      <th>Film</th>\n",
       "      <th>Rotten Tomatoes</th>\n",
       "      <th>Metacritic</th>\n",
       "      <th>CinemaScore</th>\n",
       "    </tr>\n",
       "  </thead>\n",
       "  <tbody>\n",
       "    <tr>\n",
       "      <th>0</th>\n",
       "      <td>Iron Man</td>\n",
       "      <td>94</td>\n",
       "      <td>79</td>\n",
       "      <td>A</td>\n",
       "    </tr>\n",
       "    <tr>\n",
       "      <th>1</th>\n",
       "      <td>The Incredible Hulk</td>\n",
       "      <td>67</td>\n",
       "      <td>61</td>\n",
       "      <td>A−</td>\n",
       "    </tr>\n",
       "    <tr>\n",
       "      <th>2</th>\n",
       "      <td>Iron Man 2</td>\n",
       "      <td>72</td>\n",
       "      <td>57</td>\n",
       "      <td>A</td>\n",
       "    </tr>\n",
       "    <tr>\n",
       "      <th>3</th>\n",
       "      <td>Thor</td>\n",
       "      <td>77</td>\n",
       "      <td>57</td>\n",
       "      <td>B+</td>\n",
       "    </tr>\n",
       "    <tr>\n",
       "      <th>4</th>\n",
       "      <td>Captain America: The First Avenger</td>\n",
       "      <td>80</td>\n",
       "      <td>66</td>\n",
       "      <td>A−</td>\n",
       "    </tr>\n",
       "    <tr>\n",
       "      <th>5</th>\n",
       "      <td>Marvel's The Avengers</td>\n",
       "      <td>92</td>\n",
       "      <td>69</td>\n",
       "      <td>A+</td>\n",
       "    </tr>\n",
       "    <tr>\n",
       "      <th>6</th>\n",
       "      <td>Iron Man 3</td>\n",
       "      <td>79</td>\n",
       "      <td>62</td>\n",
       "      <td>A</td>\n",
       "    </tr>\n",
       "    <tr>\n",
       "      <th>7</th>\n",
       "      <td>Thor: The Dark World</td>\n",
       "      <td>66</td>\n",
       "      <td>54</td>\n",
       "      <td>A−</td>\n",
       "    </tr>\n",
       "    <tr>\n",
       "      <th>8</th>\n",
       "      <td>Captain America: The Winter Soldier</td>\n",
       "      <td>90</td>\n",
       "      <td>70</td>\n",
       "      <td>A</td>\n",
       "    </tr>\n",
       "    <tr>\n",
       "      <th>9</th>\n",
       "      <td>Guardians of the Galaxy</td>\n",
       "      <td>91</td>\n",
       "      <td>76</td>\n",
       "      <td>A</td>\n",
       "    </tr>\n",
       "    <tr>\n",
       "      <th>10</th>\n",
       "      <td>Avengers: Age of Ultron</td>\n",
       "      <td>76</td>\n",
       "      <td>66</td>\n",
       "      <td>A</td>\n",
       "    </tr>\n",
       "    <tr>\n",
       "      <th>11</th>\n",
       "      <td>Ant-Man</td>\n",
       "      <td>83</td>\n",
       "      <td>64</td>\n",
       "      <td>A</td>\n",
       "    </tr>\n",
       "    <tr>\n",
       "      <th>12</th>\n",
       "      <td>Captain America: Civil War</td>\n",
       "      <td>91</td>\n",
       "      <td>75</td>\n",
       "      <td>A</td>\n",
       "    </tr>\n",
       "    <tr>\n",
       "      <th>13</th>\n",
       "      <td>Doctor Strange</td>\n",
       "      <td>89</td>\n",
       "      <td>72</td>\n",
       "      <td>A</td>\n",
       "    </tr>\n",
       "    <tr>\n",
       "      <th>14</th>\n",
       "      <td>Guardians of the Galaxy Vol. 2</td>\n",
       "      <td>85</td>\n",
       "      <td>67</td>\n",
       "      <td>A</td>\n",
       "    </tr>\n",
       "    <tr>\n",
       "      <th>15</th>\n",
       "      <td>Spider-Man: Homecoming</td>\n",
       "      <td>92</td>\n",
       "      <td>73</td>\n",
       "      <td>A</td>\n",
       "    </tr>\n",
       "    <tr>\n",
       "      <th>16</th>\n",
       "      <td>Thor: Ragnarok</td>\n",
       "      <td>93</td>\n",
       "      <td>74</td>\n",
       "      <td>A</td>\n",
       "    </tr>\n",
       "    <tr>\n",
       "      <th>17</th>\n",
       "      <td>Black Panther</td>\n",
       "      <td>96</td>\n",
       "      <td>88</td>\n",
       "      <td>A+</td>\n",
       "    </tr>\n",
       "    <tr>\n",
       "      <th>18</th>\n",
       "      <td>Avengers: Infinity War</td>\n",
       "      <td>85</td>\n",
       "      <td>68</td>\n",
       "      <td>A</td>\n",
       "    </tr>\n",
       "    <tr>\n",
       "      <th>19</th>\n",
       "      <td>Ant-Man and the Wasp</td>\n",
       "      <td>87</td>\n",
       "      <td>70</td>\n",
       "      <td>A−</td>\n",
       "    </tr>\n",
       "    <tr>\n",
       "      <th>20</th>\n",
       "      <td>Captain Marvel</td>\n",
       "      <td>79</td>\n",
       "      <td>64</td>\n",
       "      <td>A</td>\n",
       "    </tr>\n",
       "    <tr>\n",
       "      <th>21</th>\n",
       "      <td>Avengers: Endgame</td>\n",
       "      <td>94</td>\n",
       "      <td>78</td>\n",
       "      <td>A+</td>\n",
       "    </tr>\n",
       "    <tr>\n",
       "      <th>22</th>\n",
       "      <td>Spider-Man: Far From Home</td>\n",
       "      <td>90</td>\n",
       "      <td>69</td>\n",
       "      <td>A</td>\n",
       "    </tr>\n",
       "  </tbody>\n",
       "</table>\n",
       "</div>"
      ],
      "text/plain": [
       "                                   Film Rotten Tomatoes Metacritic CinemaScore\n",
       "0                              Iron Man              94         79           A\n",
       "1                   The Incredible Hulk              67         61          A−\n",
       "2                            Iron Man 2              72         57           A\n",
       "3                                  Thor              77         57          B+\n",
       "4    Captain America: The First Avenger              80         66          A−\n",
       "5                 Marvel's The Avengers              92         69          A+\n",
       "6                            Iron Man 3              79         62           A\n",
       "7                  Thor: The Dark World              66         54          A−\n",
       "8   Captain America: The Winter Soldier              90         70           A\n",
       "9               Guardians of the Galaxy              91         76           A\n",
       "10              Avengers: Age of Ultron              76         66           A\n",
       "11                              Ant-Man              83         64           A\n",
       "12           Captain America: Civil War              91         75           A\n",
       "13                       Doctor Strange              89         72           A\n",
       "14       Guardians of the Galaxy Vol. 2              85         67           A\n",
       "15               Spider-Man: Homecoming              92         73           A\n",
       "16                       Thor: Ragnarok              93         74           A\n",
       "17                        Black Panther              96         88          A+\n",
       "18               Avengers: Infinity War              85         68           A\n",
       "19                 Ant-Man and the Wasp              87         70          A−\n",
       "20                       Captain Marvel              79         64           A\n",
       "21                    Avengers: Endgame              94         78          A+\n",
       "22            Spider-Man: Far From Home              90         69           A"
      ]
     },
     "execution_count": 4,
     "metadata": {},
     "output_type": "execute_result"
    }
   ],
   "source": [
    "# Get a table of \"Critical and public response\"\n",
    "table = soup.findAll('table')[5]\n",
    "#table = soup.find('table', {\"class\":'wikitable plainrowheaders sortable'})\n",
    "\n",
    "# Number of columns in the table\n",
    "cells = []\n",
    "for row in table.findAll(\"tr\")[:2]:\n",
    "    for cell in row.findAll(\"th\"):\n",
    "#         print(\"---------\")\n",
    "#         print(cell.text[:-1])\n",
    "#         print(\"---------\")\n",
    "        cells.append(cell.text[:-1])\n",
    "    \n",
    "    \n",
    "\n",
    "# print cells\n",
    "print(\"=== cells ===\")\n",
    "print(cells)\n",
    "\n",
    "# get data\n",
    "all_data = [] # 2D list\n",
    "Film = []\n",
    "Rotten = []\n",
    "Metacritic = []\n",
    "CinemaScore = []\n",
    "\n",
    "for row in table.findAll(\"tr\")[3:]:\n",
    "    # create a new list to include each row\n",
    "    # example = ['94% (279 reviews)[280]', '79 (38 reviews)[281]', 'A']\n",
    "    cell_list = []\n",
    "    for cell in row.findAll(\"td\"):\n",
    "        cell_list.append(cell.text[:-1]) # remove '\\n'\n",
    "    \n",
    "    # stack each cell_list into all_data\n",
    "    if cell_list:\n",
    "        all_data.append(cell_list)\n",
    "        \n",
    "        Rotten.append(cell_list[0].split()[0][:-1])\n",
    "        Metacritic.append(cell_list[1].split()[0])\n",
    "        CinemaScore.append(cell_list[2].split()[0])\n",
    "        \n",
    "    # make a list of title\n",
    "    for title in row.findAll(\"th\"):\n",
    "        substring = 'Phase'\n",
    "        if substring not in title.text:\n",
    "            Film.append(title.text[:-1])\n",
    "        \n",
    "\n",
    "# print all_data\n",
    "# print(\"=== all_data ===\")\n",
    "#print(all_data)\n",
    "\n",
    "# test\n",
    "# print(Film)\n",
    "# print(Rotten)\n",
    "\n",
    "# Make a DataFrame\n",
    "d = {'Film': Film, 'Rotten Tomatoes': Rotten, 'Metacritic': Metacritic, 'CinemaScore': CinemaScore}\n",
    "Rate = pd.DataFrame(data = d)\n",
    "Rate"
   ]
  },
  {
   "cell_type": "code",
   "execution_count": 30,
   "metadata": {},
   "outputs": [
    {
     "data": {
      "image/png": "[encoded data removed]",
      "text/plain": [
       "<Figure size 432x288 with 1 Axes>"
      ]
     },
     "metadata": {
      "needs_background": "light"
     },
     "output_type": "display_data"
    },
    {
     "name": "stdout",
     "output_type": "stream",
     "text": [
      "pearson correlation, p-value\n",
      "(0.8852806505512226, 2.0004989157148047e-08)\n"
     ]
    },
    {
     "data": {
      "image/png": "[encoded data removed]",
      "text/plain": [
       "<Figure size 432x288 with 1 Axes>"
      ]
     },
     "metadata": {
      "needs_background": "light"
     },
     "output_type": "display_data"
    },
    {
     "name": "stdout",
     "output_type": "stream",
     "text": [
      "pearson correlation, p-value\n",
      "(0.6139881878081256, 0.0018303462578472401)\n"
     ]
    },
    {
     "data": {
      "image/png": "[encoded data removed]",
      "text/plain": [
       "<Figure size 432x288 with 1 Axes>"
      ]
     },
     "metadata": {
      "needs_background": "light"
     },
     "output_type": "display_data"
    },
    {
     "name": "stdout",
     "output_type": "stream",
     "text": [
      "pearson correlation, p-value\n",
      "(0.6288519266902969, 0.0013082956074492516)\n"
     ]
    },
    {
     "data": {
      "image/png": "[encoded data removed]",
      "text/plain": [
       "<Figure size 432x288 with 1 Axes>"
      ]
     },
     "metadata": {
      "needs_background": "light"
     },
     "output_type": "display_data"
    },
    {
     "name": "stdout",
     "output_type": "stream",
     "text": [
      "pearson correlation, p-value\n",
      "(0.6396092230917494, 0.0010150537418733036)\n"
     ]
    }
   ],
   "source": [
    "# pearson correlation\n",
    "# corr = lambda p : pd.to_numeric(p['Rotten Tomatoes']).corr(pd.to_numeric(p['Metacritic']))\n",
    "# re = corr(Rate)\n",
    "# print(re)\n",
    "\n",
    "rotten = pd.to_numeric(Rate['Rotten Tomatoes'])\n",
    "meta = pd.to_numeric(Rate['Metacritic'])\n",
    "plt.scatter(rotten,meta) # scatter plot\n",
    "plt.xlabel('Rates from Rotten Tomatoes')\n",
    "plt.ylabel('Rates from Metacritic')\n",
    "plt.title('Rate correlation between two sites')\n",
    "plt.show()\n",
    "print('pearson correlation, p-value')\n",
    "print(stats.pearsonr(rotten,meta)) # corr, p_value\n",
    "\n",
    "public = []\n",
    "for x in Rate['CinemaScore']:\n",
    "    if x == 'A+':\n",
    "        public.append(4)\n",
    "    elif x == 'A':\n",
    "        public.append(3)\n",
    "    elif x == 'A−':\n",
    "        public.append(2)\n",
    "    elif x == 'B+':\n",
    "        public.append(1)\n",
    "\n",
    "plt.scatter(rotten,public)\n",
    "plt.xlabel('Rotten Tomatoes')\n",
    "plt.ylabel('Cinema Scores')\n",
    "plt.title('Rate correlation between two sites')\n",
    "plt.show()\n",
    "print('pearson correlation, p-value')\n",
    "print(stats.pearsonr(rotten,public)) # corr, p_value\n",
    "\n",
    "plt.scatter(meta,public)\n",
    "plt.xlabel('Metacritics')\n",
    "plt.ylabel('Cinema Scores')\n",
    "plt.title('Rate correlation between two sites')\n",
    "plt.show()\n",
    "print('pearson correlation, p-value')\n",
    "print(stats.pearsonr(meta,public)) # corr, p_value\n",
    "\n",
    "mean_critical = []\n",
    "for x in range(len(rotten)):\n",
    "    mean_critical.append((rotten[x]+meta[x])/2)\n",
    "plt.scatter(mean_critical,public)\n",
    "plt.xlabel('Mean of two critical scores')\n",
    "plt.ylabel('Cinema Scores')\n",
    "plt.title('Rate correlation between two sites')\n",
    "plt.show()\n",
    "print('pearson correlation, p-value')\n",
    "print(stats.pearsonr(mean_critical,public)) # corr, p_value"
   ]
  },
  {
   "cell_type": "code",
   "execution_count": 44,
   "metadata": {},
   "outputs": [
    {
     "name": "stdout",
     "output_type": "stream",
     "text": [
      "                 Rotten Tomatoes  Metacritics  Cinema Scores\n",
      "Rotten Tomatoes         1.000000     0.885281       0.613988\n",
      "Metacritics             0.885281     1.000000       0.628852\n",
      "Cinema Scores           0.613988     0.628852       1.000000\n"
     ]
    },
    {
     "data": {
      "text/plain": [
       "Text(0.5, 0, '')"
      ]
     },
     "execution_count": 44,
     "metadata": {},
     "output_type": "execute_result"
    },
    {
     "data": {
      "image/png": "[encoded data removed]",
      "text/plain": [
       "<Figure size 288x288 with 2 Axes>"
      ]
     },
     "metadata": {
      "needs_background": "light"
     },
     "output_type": "display_data"
    }
   ],
   "source": [
    "# correlation example\n",
    "# https://datatofish.com/correlation-matrix-pandas/\n",
    "import numpy as np\n",
    "df2 = pd.DataFrame(data = {'Rotten Tomatoes':rotten, 'Metacritics':meta, 'Cinema Scores':public})\n",
    "corrMatrix = df2.corr()\n",
    "print(corrMatrix)\n",
    "\n",
    "plt.matshow(corrMatrix, cmap=plt.cm.gray_r) # imshow\n",
    "plt.colorbar()\n",
    "tick_marks = np.arange(len(corrMatrix.columns))\n",
    "plt.xticks(tick_marks, corrMatrix.columns, rotation=90)\n",
    "plt.yticks(tick_marks, corrMatrix.index)\n",
    "\n",
    "plt.ylabel(corrMatrix.index.name)\n",
    "plt.xlabel(corrMatrix.columns.name)"
   ]
  },
  {
   "cell_type": "code",
   "execution_count": 6,
   "metadata": {
    "scrolled": true
   },
   "outputs": [
    {
     "name": "stdout",
     "output_type": "stream",
     "text": [
      "=== cells ===\n",
      "['Film', 'U.S. release date', 'Box office gross', 'All-time ranking', 'Budget', 'Ref(s)', 'U.S. and Canada', 'Other territories', 'Worldwide', 'U.S. and Canada', 'Worldwide']\n"
     ]
    },
    {
     "data": {
      "text/html": [
       "<div>\n",
       "<style scoped>\n",
       "    .dataframe tbody tr th:only-of-type {\n",
       "        vertical-align: middle;\n",
       "    }\n",
       "\n",
       "    .dataframe tbody tr th {\n",
       "        vertical-align: top;\n",
       "    }\n",
       "\n",
       "    .dataframe thead th {\n",
       "        text-align: right;\n",
       "    }\n",
       "</style>\n",
       "<table border=\"1\" class=\"dataframe\">\n",
       "  <thead>\n",
       "    <tr style=\"text-align: right;\">\n",
       "      <th></th>\n",
       "      <th>Film</th>\n",
       "      <th>US release date</th>\n",
       "      <th>US and Canada box office gross</th>\n",
       "      <th>Other territories box office gross</th>\n",
       "      <th>Worldwide box office gross</th>\n",
       "      <th>US and Canada ranking</th>\n",
       "      <th>Worldwide ranking</th>\n",
       "      <th>Budget</th>\n",
       "    </tr>\n",
       "  </thead>\n",
       "  <tbody>\n",
       "    <tr>\n",
       "      <th>0</th>\n",
       "      <td>Iron Man</td>\n",
       "      <td>May 2, 2008</td>\n",
       "      <td>319,034,126</td>\n",
       "      <td>266,762,121</td>\n",
       "      <td>585,796,247</td>\n",
       "      <td>74</td>\n",
       "      <td>170</td>\n",
       "      <td>$140 million</td>\n",
       "    </tr>\n",
       "    <tr>\n",
       "      <th>1</th>\n",
       "      <td>The Incredible Hulk</td>\n",
       "      <td>June 13, 2008</td>\n",
       "      <td>134,806,913</td>\n",
       "      <td>129,964,083</td>\n",
       "      <td>264,770,996</td>\n",
       "      <td>454</td>\n",
       "      <td>573</td>\n",
       "      <td>$150 million</td>\n",
       "    </tr>\n",
       "    <tr>\n",
       "      <th>2</th>\n",
       "      <td>Iron Man 2</td>\n",
       "      <td>May 7, 2010</td>\n",
       "      <td>312,433,331</td>\n",
       "      <td>311,500,000</td>\n",
       "      <td>623,933,331</td>\n",
       "      <td>80</td>\n",
       "      <td>151</td>\n",
       "      <td>$200 million</td>\n",
       "    </tr>\n",
       "    <tr>\n",
       "      <th>3</th>\n",
       "      <td>Thor</td>\n",
       "      <td>May 6, 2011</td>\n",
       "      <td>181,030,624</td>\n",
       "      <td>268,295,994</td>\n",
       "      <td>449,326,618</td>\n",
       "      <td>257</td>\n",
       "      <td>256</td>\n",
       "      <td>$150 million</td>\n",
       "    </tr>\n",
       "    <tr>\n",
       "      <th>4</th>\n",
       "      <td>Captain America: The First Avenger</td>\n",
       "      <td>July 22, 2011</td>\n",
       "      <td>176,654,505</td>\n",
       "      <td>193,915,269</td>\n",
       "      <td>370,569,774</td>\n",
       "      <td>273</td>\n",
       "      <td>348</td>\n",
       "      <td>$140 million</td>\n",
       "    </tr>\n",
       "    <tr>\n",
       "      <th>5</th>\n",
       "      <td>Marvel's The Avengers</td>\n",
       "      <td>May 4, 2012</td>\n",
       "      <td>623,357,910</td>\n",
       "      <td>895,457,605</td>\n",
       "      <td>1,518,815,515</td>\n",
       "      <td>8</td>\n",
       "      <td>8</td>\n",
       "      <td>$220 million</td>\n",
       "    </tr>\n",
       "    <tr>\n",
       "      <th>6</th>\n",
       "      <td>Iron Man 3</td>\n",
       "      <td>May 3, 2013</td>\n",
       "      <td>409,013,994</td>\n",
       "      <td>805,797,258</td>\n",
       "      <td>1,214,811,252</td>\n",
       "      <td>32</td>\n",
       "      <td>20</td>\n",
       "      <td>$178.4 million</td>\n",
       "    </tr>\n",
       "    <tr>\n",
       "      <th>7</th>\n",
       "      <td>Thor: The Dark World</td>\n",
       "      <td>November 8, 2013</td>\n",
       "      <td>206,362,140</td>\n",
       "      <td>438,421,000</td>\n",
       "      <td>644,783,140</td>\n",
       "      <td>204</td>\n",
       "      <td>142</td>\n",
       "      <td>$152.7 million</td>\n",
       "    </tr>\n",
       "    <tr>\n",
       "      <th>8</th>\n",
       "      <td>Captain America: The Winter Soldier</td>\n",
       "      <td>April 4, 2014</td>\n",
       "      <td>259,766,572</td>\n",
       "      <td>454,654,931</td>\n",
       "      <td>714,421,503</td>\n",
       "      <td>119</td>\n",
       "      <td>117</td>\n",
       "      <td>$177 million</td>\n",
       "    </tr>\n",
       "    <tr>\n",
       "      <th>9</th>\n",
       "      <td>Guardians of the Galaxy</td>\n",
       "      <td>August 1, 2014</td>\n",
       "      <td>333,176,600</td>\n",
       "      <td>439,601,585</td>\n",
       "      <td>772,778,185</td>\n",
       "      <td>66</td>\n",
       "      <td>100</td>\n",
       "      <td>$195.9 million</td>\n",
       "    </tr>\n",
       "    <tr>\n",
       "      <th>10</th>\n",
       "      <td>Avengers: Age of Ultron</td>\n",
       "      <td>May 1, 2015</td>\n",
       "      <td>459,005,868</td>\n",
       "      <td>943,800,000</td>\n",
       "      <td>1,402,805,868</td>\n",
       "      <td>20</td>\n",
       "      <td>11</td>\n",
       "      <td>$365.5 million</td>\n",
       "    </tr>\n",
       "    <tr>\n",
       "      <th>11</th>\n",
       "      <td>Ant-Man</td>\n",
       "      <td>July 17, 2015</td>\n",
       "      <td>180,202,163</td>\n",
       "      <td>339,109,802</td>\n",
       "      <td>519,311,965</td>\n",
       "      <td>255</td>\n",
       "      <td>209</td>\n",
       "      <td>$109.3 million</td>\n",
       "    </tr>\n",
       "    <tr>\n",
       "      <th>12</th>\n",
       "      <td>Captain America: Civil War</td>\n",
       "      <td>May 6, 2016</td>\n",
       "      <td>408,084,349</td>\n",
       "      <td>745,211,944</td>\n",
       "      <td>1,153,296,293</td>\n",
       "      <td>33</td>\n",
       "      <td>22</td>\n",
       "      <td>$230 million</td>\n",
       "    </tr>\n",
       "    <tr>\n",
       "      <th>13</th>\n",
       "      <td>Doctor Strange</td>\n",
       "      <td>November 4, 2016</td>\n",
       "      <td>232,641,920</td>\n",
       "      <td>445,076,475</td>\n",
       "      <td>677,718,395</td>\n",
       "      <td>154</td>\n",
       "      <td>131</td>\n",
       "      <td>$165 million</td>\n",
       "    </tr>\n",
       "    <tr>\n",
       "      <th>14</th>\n",
       "      <td>Guardians of the Galaxy Vol. 2</td>\n",
       "      <td>May 5, 2017</td>\n",
       "      <td>389,813,101</td>\n",
       "      <td>473,942,950</td>\n",
       "      <td>863,756,051</td>\n",
       "      <td>41</td>\n",
       "      <td>75</td>\n",
       "      <td>$200 million</td>\n",
       "    </tr>\n",
       "    <tr>\n",
       "      <th>15</th>\n",
       "      <td>Spider-Man: Homecoming</td>\n",
       "      <td>July 7, 2017</td>\n",
       "      <td>334,201,140</td>\n",
       "      <td>545,965,784</td>\n",
       "      <td>880,166,924</td>\n",
       "      <td>64</td>\n",
       "      <td>68</td>\n",
       "      <td>$175 million</td>\n",
       "    </tr>\n",
       "    <tr>\n",
       "      <th>16</th>\n",
       "      <td>Thor: Ragnarok</td>\n",
       "      <td>November 3, 2017</td>\n",
       "      <td>315,058,289</td>\n",
       "      <td>538,918,837</td>\n",
       "      <td>853,977,126</td>\n",
       "      <td>79</td>\n",
       "      <td>78</td>\n",
       "      <td>$180 million</td>\n",
       "    </tr>\n",
       "    <tr>\n",
       "      <th>17</th>\n",
       "      <td>Black Panther</td>\n",
       "      <td>February 16, 2018</td>\n",
       "      <td>700,426,566</td>\n",
       "      <td>646,853,595</td>\n",
       "      <td>1,347,280,161</td>\n",
       "      <td>4</td>\n",
       "      <td>13</td>\n",
       "      <td>$200 million</td>\n",
       "    </tr>\n",
       "    <tr>\n",
       "      <th>18</th>\n",
       "      <td>Avengers: Infinity War</td>\n",
       "      <td>April 27, 2018</td>\n",
       "      <td>678,815,482</td>\n",
       "      <td>1,369,544,272</td>\n",
       "      <td>2,048,359,754</td>\n",
       "      <td>5</td>\n",
       "      <td>5</td>\n",
       "      <td>$316–400 million</td>\n",
       "    </tr>\n",
       "    <tr>\n",
       "      <th>19</th>\n",
       "      <td>Ant-Man and the Wasp</td>\n",
       "      <td>July 6, 2018</td>\n",
       "      <td>216,648,740</td>\n",
       "      <td>406,025,399</td>\n",
       "      <td>622,674,139</td>\n",
       "      <td>181</td>\n",
       "      <td>153</td>\n",
       "      <td>$162 million</td>\n",
       "    </tr>\n",
       "    <tr>\n",
       "      <th>20</th>\n",
       "      <td>Captain Marvel</td>\n",
       "      <td>March 8, 2019</td>\n",
       "      <td>426,829,839</td>\n",
       "      <td>701,445,424</td>\n",
       "      <td>1,128,275,263</td>\n",
       "      <td>25</td>\n",
       "      <td>26</td>\n",
       "      <td>$150–175 million</td>\n",
       "    </tr>\n",
       "    <tr>\n",
       "      <th>21</th>\n",
       "      <td>Avengers: Endgame</td>\n",
       "      <td>April 26, 2019</td>\n",
       "      <td>858,373,000</td>\n",
       "      <td>1,939,427,564</td>\n",
       "      <td>2,797,800,564</td>\n",
       "      <td>2</td>\n",
       "      <td>1</td>\n",
       "      <td>$356 million</td>\n",
       "    </tr>\n",
       "    <tr>\n",
       "      <th>22</th>\n",
       "      <td>Spider-Man: Far From Home</td>\n",
       "      <td>July 2, 2019</td>\n",
       "      <td>390,532,085</td>\n",
       "      <td>741,395,911</td>\n",
       "      <td>1,131,927,996</td>\n",
       "      <td>40</td>\n",
       "      <td>25</td>\n",
       "      <td>$160 million</td>\n",
       "    </tr>\n",
       "  </tbody>\n",
       "</table>\n",
       "</div>"
      ],
      "text/plain": [
       "                                   Film    US release date  \\\n",
       "0                              Iron Man        May 2, 2008   \n",
       "1                   The Incredible Hulk      June 13, 2008   \n",
       "2                            Iron Man 2        May 7, 2010   \n",
       "3                                  Thor        May 6, 2011   \n",
       "4    Captain America: The First Avenger      July 22, 2011   \n",
       "5                 Marvel's The Avengers        May 4, 2012   \n",
       "6                            Iron Man 3        May 3, 2013   \n",
       "7                  Thor: The Dark World   November 8, 2013   \n",
       "8   Captain America: The Winter Soldier      April 4, 2014   \n",
       "9               Guardians of the Galaxy     August 1, 2014   \n",
       "10              Avengers: Age of Ultron        May 1, 2015   \n",
       "11                              Ant-Man      July 17, 2015   \n",
       "12           Captain America: Civil War        May 6, 2016   \n",
       "13                       Doctor Strange   November 4, 2016   \n",
       "14       Guardians of the Galaxy Vol. 2        May 5, 2017   \n",
       "15               Spider-Man: Homecoming       July 7, 2017   \n",
       "16                       Thor: Ragnarok   November 3, 2017   \n",
       "17                        Black Panther  February 16, 2018   \n",
       "18               Avengers: Infinity War     April 27, 2018   \n",
       "19                 Ant-Man and the Wasp       July 6, 2018   \n",
       "20                       Captain Marvel      March 8, 2019   \n",
       "21                    Avengers: Endgame     April 26, 2019   \n",
       "22            Spider-Man: Far From Home       July 2, 2019   \n",
       "\n",
       "   US and Canada box office gross Other territories box office gross  \\\n",
       "0                     319,034,126                        266,762,121   \n",
       "1                     134,806,913                        129,964,083   \n",
       "2                     312,433,331                        311,500,000   \n",
       "3                     181,030,624                        268,295,994   \n",
       "4                     176,654,505                        193,915,269   \n",
       "5                     623,357,910                        895,457,605   \n",
       "6                     409,013,994                        805,797,258   \n",
       "7                     206,362,140                        438,421,000   \n",
       "8                     259,766,572                        454,654,931   \n",
       "9                     333,176,600                        439,601,585   \n",
       "10                    459,005,868                        943,800,000   \n",
       "11                    180,202,163                        339,109,802   \n",
       "12                    408,084,349                        745,211,944   \n",
       "13                    232,641,920                        445,076,475   \n",
       "14                    389,813,101                        473,942,950   \n",
       "15                    334,201,140                        545,965,784   \n",
       "16                    315,058,289                        538,918,837   \n",
       "17                    700,426,566                        646,853,595   \n",
       "18                    678,815,482                      1,369,544,272   \n",
       "19                    216,648,740                        406,025,399   \n",
       "20                    426,829,839                        701,445,424   \n",
       "21                    858,373,000                      1,939,427,564   \n",
       "22                    390,532,085                        741,395,911   \n",
       "\n",
       "   Worldwide box office gross US and Canada ranking Worldwide ranking  \\\n",
       "0                 585,796,247                    74               170   \n",
       "1                 264,770,996                   454               573   \n",
       "2                 623,933,331                    80               151   \n",
       "3                 449,326,618                   257               256   \n",
       "4                 370,569,774                   273               348   \n",
       "5               1,518,815,515                     8                 8   \n",
       "6               1,214,811,252                    32                20   \n",
       "7                 644,783,140                   204               142   \n",
       "8                 714,421,503                   119               117   \n",
       "9                 772,778,185                    66               100   \n",
       "10              1,402,805,868                    20                11   \n",
       "11                519,311,965                   255               209   \n",
       "12              1,153,296,293                    33                22   \n",
       "13                677,718,395                   154               131   \n",
       "14                863,756,051                    41                75   \n",
       "15                880,166,924                    64                68   \n",
       "16                853,977,126                    79                78   \n",
       "17              1,347,280,161                     4                13   \n",
       "18              2,048,359,754                     5                 5   \n",
       "19                622,674,139                   181               153   \n",
       "20              1,128,275,263                    25                26   \n",
       "21              2,797,800,564                     2                 1   \n",
       "22              1,131,927,996                    40                25   \n",
       "\n",
       "              Budget  \n",
       "0       $140 million  \n",
       "1       $150 million  \n",
       "2       $200 million  \n",
       "3       $150 million  \n",
       "4       $140 million  \n",
       "5       $220 million  \n",
       "6     $178.4 million  \n",
       "7     $152.7 million  \n",
       "8       $177 million  \n",
       "9     $195.9 million  \n",
       "10    $365.5 million  \n",
       "11    $109.3 million  \n",
       "12      $230 million  \n",
       "13      $165 million  \n",
       "14      $200 million  \n",
       "15      $175 million  \n",
       "16      $180 million  \n",
       "17      $200 million  \n",
       "18  $316–400 million  \n",
       "19      $162 million  \n",
       "20  $150–175 million  \n",
       "21      $356 million  \n",
       "22      $160 million  "
      ]
     },
     "execution_count": 6,
     "metadata": {},
     "output_type": "execute_result"
    }
   ],
   "source": [
    "# Get a table of \"Critical and public response\"\n",
    "table_2 = soup.findAll('table')[4]\n",
    "#table = soup.find('table', {\"class\":'wikitable plainrowheaders sortable'})\n",
    "\n",
    "# Number of columns in the table\n",
    "cells = []\n",
    "for row in table_2.findAll(\"tr\")[:2]:\n",
    "    for cell in row.findAll(\"th\"):\n",
    "#         print(\"---------\")\n",
    "#         print(cell.text[:-1])\n",
    "#         print(\"---------\")\n",
    "        cells.append(cell.text[:-1])\n",
    "    \n",
    "    \n",
    "\n",
    "# print cells\n",
    "print(\"=== cells ===\")\n",
    "print(cells)\n",
    "\n",
    "# get data\n",
    "Film2 = []\n",
    "US_release_date = []\n",
    "US_Canada_gross = []\n",
    "Other_gross = []\n",
    "Worldwide_gross = []\n",
    "US_Canada_ranking = []\n",
    "Worldwide_ranking = []\n",
    "Budget = []\n",
    "\n",
    "for row in table_2.findAll(\"tr\")[3:29]:\n",
    "    # create a new list to include each row\n",
    "    # example = ['May 2, 2008', '$319,034,126', '$266,762,121',\n",
    "    #            '$585,796,247', '74', '170', '$140\\xa0million', '[245]']\n",
    "    cell_list = []\n",
    "    for cell in row.findAll(\"td\"):\n",
    "        cell_list.append(cell.text[:-1]) # remove '\\n'\n",
    "    \n",
    "    # stack each cell_list into all_data\n",
    "    if cell_list:\n",
    "        #print(cell_list)\n",
    "        US_release_date.append(cell_list[0])\n",
    "        US_Canada_gross.append(cell_list[1][1:])\n",
    "        Other_gross.append(cell_list[2][1:])\n",
    "        Worldwide_gross.append(cell_list[3][1:])\n",
    "        US_Canada_ranking.append(cell_list[4])\n",
    "        Worldwide_ranking.append(cell_list[5])\n",
    "        Budget.append(cell_list[6])\n",
    "        \n",
    "    # make a list of title\n",
    "    for title in row.findAll(\"th\"):\n",
    "        substring = 'Phase'\n",
    "        if substring not in title.text:\n",
    "            Film2.append(title.text[:-1])\n",
    "\n",
    "# test\n",
    "# print(Film2)\n",
    "# print(\"-===\")\n",
    "# print(US_release_date)\n",
    "\n",
    "# Make a DataFrame\n",
    "d2 = {'Film': Film, 'US release date': US_release_date,\n",
    "      'US and Canada box office gross': US_Canada_gross,\n",
    "      'Other territories box office gross': Other_gross,\n",
    "      'Worldwide box office gross': Worldwide_gross,\n",
    "      'US and Canada ranking': US_Canada_ranking,\n",
    "      'Worldwide ranking': Worldwide_ranking,\n",
    "      'Budget': Budget}\n",
    "Performance = pd.DataFrame(data = d2)\n",
    "Performance"
   ]
  },
  {
   "cell_type": "code",
   "execution_count": 8,
   "metadata": {},
   "outputs": [
    {
     "name": "stdout",
     "output_type": "stream",
     "text": [
      "          US rank   Wo rank\n",
      "US rank  1.000000  0.950018\n",
      "Wo rank  0.950018  1.000000\n"
     ]
    }
   ],
   "source": [
    "# # correlation example\n",
    "# # https://datatofish.com/correlation-matrix-pandas/\n",
    "# US_rank = Performance['US and Canada ranking'].astype(int)\n",
    "# Wo_rank = Performance['Worldwide ranking'].astype(int)\n",
    "\n",
    "# df2 = pd.DataFrame(data = {'US rank':US_rank, 'Wo rank':Wo_rank})\n",
    "# corrMatrix = df2.corr()\n",
    "# print(corrMatrix)"
   ]
  },
  {
   "cell_type": "code",
   "execution_count": 41,
   "metadata": {
    "scrolled": true
   },
   "outputs": [
    {
     "data": {
      "image/png": "[encoded data removed]",
      "text/plain": [
       "<Figure size 432x288 with 1 Axes>"
      ]
     },
     "metadata": {
      "needs_background": "light"
     },
     "output_type": "display_data"
    },
    {
     "name": "stdout",
     "output_type": "stream",
     "text": [
      "pearson correlation, p-value\n",
      "(0.38007358510963546, 0.07362364305078087)\n"
     ]
    },
    {
     "data": {
      "image/png": "[encoded data removed]",
      "text/plain": [
       "<Figure size 432x288 with 1 Axes>"
      ]
     },
     "metadata": {
      "needs_background": "light"
     },
     "output_type": "display_data"
    },
    {
     "name": "stdout",
     "output_type": "stream",
     "text": [
      "pearson correlation, p-value\n",
      "(0.373441316928487, 0.07922074921999324)\n"
     ]
    },
    {
     "data": {
      "image/png": "[encoded data removed]",
      "text/plain": [
       "<Figure size 432x288 with 1 Axes>"
      ]
     },
     "metadata": {
      "needs_background": "light"
     },
     "output_type": "display_data"
    },
    {
     "name": "stdout",
     "output_type": "stream",
     "text": [
      "pearson correlation, p-value\n",
      "(0.6590114315383353, 0.0006265309976071556)\n"
     ]
    }
   ],
   "source": [
    "# worldwide_gross = pd.to_numeric(Performance['Worldwide box office gross'])\n",
    "worldwide_gross = []\n",
    "for x in Performance['Worldwide box office gross']:\n",
    "    worldwide_gross.append(int(x.replace(',','')))\n",
    "    \n",
    "plt.scatter(rotten,worldwide_gross)\n",
    "plt.xlabel('Rotten Tomatoes')\n",
    "plt.ylabel('Worldwide box office gross')\n",
    "plt.title('Correlation between Rotten Tomatoes and Worldwide box office gross')\n",
    "plt.show()\n",
    "print('pearson correlation, p-value')\n",
    "print(stats.pearsonr(rotten,worldwide_gross)) # corr, p_value\n",
    "\n",
    "plt.scatter(meta,worldwide_gross)\n",
    "plt.xlabel('Metacritic')\n",
    "plt.ylabel('Worldwide box office gross')\n",
    "plt.title('Correlation between Metacritic and Worldwide box office gross')\n",
    "plt.show()\n",
    "print('pearson correlation, p-value')\n",
    "print(stats.pearsonr(meta,worldwide_gross)) # corr, p_value\n",
    "\n",
    "plt.scatter(public,worldwide_gross)\n",
    "plt.xlabel('Cinema Scores')\n",
    "plt.ylabel('Worldwide box office gross')\n",
    "plt.title('Correlation between Cinema Scores and Worldwide box office gross')\n",
    "plt.show()\n",
    "print('pearson correlation, p-value')\n",
    "print(stats.pearsonr(public,worldwide_gross)) # corr, p_value"
   ]
  },
  {
   "cell_type": "code",
   "execution_count": 43,
   "metadata": {},
   "outputs": [
    {
     "name": "stdout",
     "output_type": "stream",
     "text": [
      "                            Rotten Tomatoes  Metacritics  Cinema Scores  \\\n",
      "Rotten Tomatoes                    1.000000     0.885281       0.613988   \n",
      "Metacritics                        0.885281     1.000000       0.628852   \n",
      "Cinema Scores                      0.613988     0.628852       1.000000   \n",
      "Worldwide box office gross         0.380074     0.373441       0.659011   \n",
      "\n",
      "                            Worldwide box office gross  \n",
      "Rotten Tomatoes                               0.380074  \n",
      "Metacritics                                   0.373441  \n",
      "Cinema Scores                                 0.659011  \n",
      "Worldwide box office gross                    1.000000  \n"
     ]
    },
    {
     "data": {
      "text/plain": [
       "Text(0.5, 0, '')"
      ]
     },
     "execution_count": 43,
     "metadata": {},
     "output_type": "execute_result"
    },
    {
     "data": {
      "image/png": "[encoded data removed]",
      "text/plain": [
       "<Figure size 288x288 with 2 Axes>"
      ]
     },
     "metadata": {
      "needs_background": "light"
     },
     "output_type": "display_data"
    }
   ],
   "source": [
    "# correlation example\n",
    "# https://datatofish.com/correlation-matrix-pandas/\n",
    "import numpy as np\n",
    "df3 = pd.DataFrame(data = {'Rotten Tomatoes':rotten, 'Metacritics':meta, 'Cinema Scores':public, 'Worldwide box office gross':worldwide_gross})\n",
    "corrMatrix2 = df3.corr()\n",
    "print(corrMatrix2)\n",
    "\n",
    "plt.matshow(corrMatrix2, cmap=plt.cm.gray_r) # imshow\n",
    "plt.colorbar()\n",
    "tick_marks = np.arange(len(corrMatrix2.columns))\n",
    "plt.xticks(tick_marks, corrMatrix2.columns, rotation=90)\n",
    "plt.yticks(tick_marks, corrMatrix2.index)\n",
    "\n",
    "plt.ylabel(corrMatrix2.index.name)\n",
    "plt.xlabel(corrMatrix2.columns.name)"
   ]
  },
  {
   "cell_type": "code",
   "execution_count": 29,
   "metadata": {},
   "outputs": [
    {
     "data": {
      "image/png": "[encoded data removed]",
      "text/plain": [
       "<Figure size 432x288 with 1 Axes>"
      ]
     },
     "metadata": {
      "needs_background": "light"
     },
     "output_type": "display_data"
    }
   ],
   "source": [
    "profit = []\n",
    "budget = []\n",
    "for x in Performance['Budget']:\n",
    "    x_str = x.split()[0][1:]\n",
    "    \n",
    "    if(len(x_str)> 5):\n",
    "        if(x_str[3] == '–'): # in case x_str = $316–400 million, take the average of the two numbers\n",
    "            first = float(x_str[0:3])\n",
    "            second = float(x_str[4:])\n",
    "            x_num = ((first + second)/2)*1000000\n",
    "    else:\n",
    "        x_num = float(x_str)*1000000\n",
    "    budget.append(x_num)\n",
    "    \n",
    "\n",
    "# b = ['140,000,000', '150,000,000', '200,000,000', '150,000,000', '140,000,000', '220,000,000', '178,400,000', '152,700,000', '177,000,000', '195,900,000', '365,500,000', '109,300,000', '230,000,000', '165,000,000', '200,000,000', '175,000,000', '180,000,000', '200,000,000', '358,000,000', '162,000,000', '162,500,000', '356,000,000', '160,000,000']\n",
    "for x in range(len(worldwide_gross)):\n",
    "#     profit.append(worldwide_gross[x]/int(b[x].replace(',','')))\n",
    "    profit.append(worldwide_gross[x]/budget[x])\n",
    "# print(profit) \n",
    "\n",
    "# plt.scatter(Performance['Film'],b)\n",
    "plt.scatter(Performance['Film'],profit)\n",
    "plt.xlabel('Film')\n",
    "plt.xticks(Performance['Film'], rotation='vertical')\n",
    "plt.ylabel('profit')\n",
    "plt.title('Profit of each film')\n",
    "plt.show()"
   ]
  },
  {
   "cell_type": "code",
   "execution_count": 48,
   "metadata": {},
   "outputs": [
    {
     "data": {
      "image/png": "[encoded data removed]",
      "text/plain": [
       "<Figure size 432x288 with 1 Axes>"
      ]
     },
     "metadata": {
      "needs_background": "light"
     },
     "output_type": "display_data"
    }
   ],
   "source": [
    "plt.scatter(Performance['Film'],worldwide_gross)\n",
    "plt.xlabel('Film')\n",
    "plt.xticks(Performance['Film'], rotation='vertical')\n",
    "plt.ylabel('Worldwide box office gross')\n",
    "plt.title('Worldwide box office gross by movie')\n",
    "plt.show()"
   ]
  },
  {
   "cell_type": "code",
   "execution_count": 47,
   "metadata": {},
   "outputs": [
    {
     "data": {
      "image/png": "[encoded data removed]",
      "text/plain": [
       "<Figure size 432x288 with 1 Axes>"
      ]
     },
     "metadata": {
      "needs_background": "light"
     },
     "output_type": "display_data"
    },
    {
     "name": "stdout",
     "output_type": "stream",
     "text": [
      "pearson correlation, p-value\n",
      "(0.7661053293223986, 2.029042908258859e-05)\n"
     ]
    }
   ],
   "source": [
    "plt.scatter(worldwide_gross, profit)\n",
    "plt.ylabel('Profit')\n",
    "plt.xlabel('Worldwide box office gross')\n",
    "plt.title('Correlation between Metacritic and Worldwide box office gross')\n",
    "plt.show()\n",
    "print('pearson correlation, p-value')\n",
    "print(stats.pearsonr(profit,worldwide_gross)) # corr, p_value"
   ]
  }
 ],
 "metadata": {
  "kernelspec": {
   "display_name": "Python 3",
   "language": "python",
   "name": "python3"
  },
  "language_info": {
   "codemirror_mode": {
    "name": "ipython",
    "version": 3
   },
   "file_extension": ".py",
   "mimetype": "text/x-python",
   "name": "python",
   "nbconvert_exporter": "python",
   "pygments_lexer": "ipython3",
   "version": "3.8.0"
  }
 },
 "nbformat": 4,
 "nbformat_minor": 5
}
